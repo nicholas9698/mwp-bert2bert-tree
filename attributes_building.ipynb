{
 "cells": [
  {
   "cell_type": "markdown",
   "metadata": {},
   "source": [
    "# Build the Entity Attributes"
   ]
  },
  {
   "cell_type": "markdown",
   "metadata": {},
   "source": [
    "The process relies on *[Stanford CoreNLP](https://stanfordnlp.github.io/CoreNLP/)*, follow this *[guide](https://github.com/Lynten/stanford-corenlp)* to install the PyPI package and download the Chinese model package."
   ]
  },
  {
   "cell_type": "markdown",
   "metadata": {},
   "source": [
    "## Recut the word"
   ]
  },
  {
   "cell_type": "markdown",
   "metadata": {},
   "source": [
    "For data in the same format as Math23K, run the `ape_new_split` function to separate the numbers from the text.\n",
    "> The problem text needs to be cut first (using tools such as **jieba** or **stanford-corenlp**)"
   ]
  },
  {
   "cell_type": "code",
   "execution_count": null,
   "metadata": {},
   "outputs": [],
   "source": [
    "from src.data_process import ape_new_split\n",
    "\n",
    "ape_new_split(path='data_path')"
   ]
  },
  {
   "cell_type": "markdown",
   "metadata": {},
   "source": [
    "## Extract entity attributes of numbers"
   ]
  },
  {
   "cell_type": "markdown",
   "metadata": {},
   "source": [
    "Run the `generate_text_attributes` function to generate the entity attribute for the number.\n",
    "\n",
    "> If you want to use only the **bert2bert** model, run the `generate_seq_attributes` function to generate the entity attributes."
   ]
  },
  {
   "cell_type": "code",
   "execution_count": null,
   "metadata": {},
   "outputs": [],
   "source": [
    "from src.data_process import generate_text_attributes, generate_seq_attributes\n",
    "\n",
    "generate_text_attributes(text_dir='data_path', output_dir='entity_output_path', corenlp_path='the stanford-corenlp language-jar-package dir')"
   ]
  }
 ],
 "metadata": {
  "kernelspec": {
   "display_name": "pytorch",
   "language": "python",
   "name": "python3"
  },
  "language_info": {
   "name": "python",
   "version": "3.10.4"
  },
  "orig_nbformat": 4
 },
 "nbformat": 4,
 "nbformat_minor": 2
}
